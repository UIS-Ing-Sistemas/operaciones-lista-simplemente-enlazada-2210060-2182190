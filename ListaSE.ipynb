{
 "cells": [
  {
   "cell_type": "code",
   "execution_count": 176,
   "metadata": {},
   "outputs": [],
   "source": [
    "class Nodo:\n",
    "    def __init__(self,valor):\n",
    "        self.dato = valor\n",
    "        self.siguiente = None\n",
    "#Fin de la Clase Nodo"
   ]
  },
  {
   "cell_type": "code",
   "execution_count": 177,
   "metadata": {},
   "outputs": [],
   "source": [
    "class ListaSE:\n",
    "    def __init__(self):\n",
    "        self.cabeza = None\n",
    "        \n",
    "    def agregarInicio(self,valor):\n",
    "        nuevo_nodo = Nodo(valor)\n",
    "        \n",
    "        if self.cabeza is None: \n",
    "            self.cabeza = nuevo_nodo\n",
    "            return\n",
    "        else:\n",
    "            nuevo_nodo.siguiente = self.cabeza\n",
    "            self.cabeza = nuevo_nodo\n",
    "            return\n",
    "    \n",
    "    def agregarFinal(self,valor):\n",
    "        nuevo_nodo = Nodo(valor)\n",
    "        if self.cabeza is None:\n",
    "            self.cabeza = nuevo_nodo\n",
    "            return \n",
    "        else:\n",
    "            temp = self.cabeza\n",
    "            while temp.siguiente is not None:\n",
    "                temp = temp.siguiente\n",
    "            temp.siguiente = nuevo_nodo\n",
    "            \n",
    "    def eliminarPrimero(self):\n",
    "        if self.cabeza is None:\n",
    "            return\n",
    "        else:\n",
    "            self.cabeza = self.cabeza.siguiente\n",
    "            \n",
    "    def eliminarUltimo(self):\n",
    "        if self.cabeza is None:\n",
    "            return\n",
    "        else:\n",
    "            if self.cabeza.siguiente is None:\n",
    "                self.cabeza = None\n",
    "            else:\n",
    "                temp = self.cabeza\n",
    "                while temp.siguiente is not None:\n",
    "                    if temp.siguiente.siguiente is None:\n",
    "                        temp.siguiente = None\n",
    "                        return\n",
    "                    temp = temp.siguiente\n",
    "                    \n",
    "    def buscarValor(self,valor):\n",
    "         if self.cabeza is None:\n",
    "             return \"Falso\"\n",
    "         else:\n",
    "             temp = self.cabeza\n",
    "             while temp.siguiente is not None:\n",
    "                 temp = temp.siguiente\n",
    "                 if temp.dato == valor:\n",
    "                     return \"Verdadero\"\n",
    "\n",
    "             return \"Falso\"\n",
    "    def imprimeLista(self):\n",
    "        if self.cabeza is None:\n",
    "            return\n",
    "        else:\n",
    "            temp = self.cabeza\n",
    "            while temp.siguiente is not None:\n",
    "                temp = temp.siguiente\n",
    "                print(temp.dato)\n",
    "    def contarLista(self):\n",
    "        if self.cabeza is None:\n",
    "            return \"La lista se encuentra vacia\"\n",
    "        else:\n",
    "            count = 0\n",
    "            temp = self.cabeza\n",
    "            while temp.siguiente is not None:\n",
    "                count +=1\n",
    "                temp = temp.siguiente\n",
    "            return count\n",
    "    def listaVacia(self):\n",
    "        if self.cabeza is None:\n",
    "            return \"Verdadero\"\n",
    "        else:\n",
    "            return \"Falso\"\n",
    "#Fin de la Clase ListaSE"
   ]
  },
  {
   "cell_type": "code",
   "execution_count": 178,
   "metadata": {},
   "outputs": [
    {
     "data": {
      "text/plain": [
       "'Verdadero'"
      ]
     },
     "execution_count": 178,
     "metadata": {},
     "output_type": "execute_result"
    }
   ],
   "source": [
    "#Creacion de una lista Simplemente enlazada\n",
    "ListaSimple = ListaSE()\n",
    "ListaSimple.listaVacia()"
   ]
  },
  {
   "cell_type": "code",
   "execution_count": 179,
   "metadata": {},
   "outputs": [
    {
     "name": "stdout",
     "output_type": "stream",
     "text": [
      "5\n"
     ]
    }
   ],
   "source": [
    "#Se agrega un valor al inicio y se imprime\n",
    "ListaSimple.agregarInicio(5)\n",
    "print(ListaSimple.cabeza.dato)"
   ]
  },
  {
   "cell_type": "code",
   "execution_count": 180,
   "metadata": {},
   "outputs": [
    {
     "name": "stdout",
     "output_type": "stream",
     "text": [
      "8\n"
     ]
    }
   ],
   "source": [
    "#Se agrega otro valor al inicio y se imprime\n",
    "ListaSimple.agregarInicio(8)\n",
    "print(ListaSimple.cabeza.dato)"
   ]
  },
  {
   "cell_type": "code",
   "execution_count": 181,
   "metadata": {},
   "outputs": [],
   "source": [
    "ListaSimple.agregarFinal(3)\n",
    "ListaSimple.agregarFinal(4)"
   ]
  },
  {
   "cell_type": "code",
   "execution_count": 182,
   "metadata": {},
   "outputs": [
    {
     "name": "stdout",
     "output_type": "stream",
     "text": [
      "5\n",
      "3\n",
      "4\n"
     ]
    }
   ],
   "source": [
    "ListaSimple.imprimeLista()"
   ]
  },
  {
   "cell_type": "code",
   "execution_count": 183,
   "metadata": {},
   "outputs": [
    {
     "data": {
      "text/plain": [
       "3"
      ]
     },
     "execution_count": 183,
     "metadata": {},
     "output_type": "execute_result"
    }
   ],
   "source": [
    "ListaSimple.contarLista()"
   ]
  },
  {
   "cell_type": "code",
   "execution_count": 184,
   "metadata": {},
   "outputs": [
    {
     "data": {
      "text/plain": [
       "'Falso'"
      ]
     },
     "execution_count": 184,
     "metadata": {},
     "output_type": "execute_result"
    }
   ],
   "source": [
    "ListaSimple.buscarValor(7)"
   ]
  },
  {
   "cell_type": "code",
   "execution_count": 185,
   "metadata": {},
   "outputs": [],
   "source": [
    "ListaSimple.agregarFinal(7)"
   ]
  },
  {
   "cell_type": "code",
   "execution_count": 186,
   "metadata": {},
   "outputs": [
    {
     "data": {
      "text/plain": [
       "'Verdadero'"
      ]
     },
     "execution_count": 186,
     "metadata": {},
     "output_type": "execute_result"
    }
   ],
   "source": [
    "ListaSimple.buscarValor(7)"
   ]
  },
  {
   "cell_type": "code",
   "execution_count": 187,
   "metadata": {},
   "outputs": [
    {
     "name": "stdout",
     "output_type": "stream",
     "text": [
      "5\n",
      "3\n",
      "4\n",
      "7\n"
     ]
    }
   ],
   "source": [
    "ListaSimple.imprimeLista()"
   ]
  },
  {
   "cell_type": "code",
   "execution_count": 188,
   "metadata": {},
   "outputs": [
    {
     "data": {
      "text/plain": [
       "4"
      ]
     },
     "execution_count": 188,
     "metadata": {},
     "output_type": "execute_result"
    }
   ],
   "source": [
    "ListaSimple.contarLista()"
   ]
  },
  {
   "cell_type": "code",
   "execution_count": 189,
   "metadata": {},
   "outputs": [
    {
     "data": {
      "text/plain": [
       "'Falso'"
      ]
     },
     "execution_count": 189,
     "metadata": {},
     "output_type": "execute_result"
    }
   ],
   "source": [
    "ListaSimple.listaVacia()"
   ]
  },
  {
   "cell_type": "code",
   "execution_count": null,
   "metadata": {},
   "outputs": [],
   "source": []
  },
  {
   "cell_type": "code",
   "execution_count": null,
   "metadata": {},
   "outputs": [],
   "source": []
  },
  {
   "cell_type": "code",
   "execution_count": null,
   "metadata": {},
   "outputs": [],
   "source": []
  },
  {
   "cell_type": "code",
   "execution_count": null,
   "metadata": {},
   "outputs": [],
   "source": []
  },
  {
   "cell_type": "code",
   "execution_count": null,
   "metadata": {},
   "outputs": [],
   "source": []
  }
 ],
 "metadata": {
  "interpreter": {
   "hash": "158738c2e2af07cbc86d9aa96ea1e7b7b59023abb225fbebbdab74f695b718f8"
  },
  "kernelspec": {
   "display_name": "Python 3 (ipykernel)",
   "language": "python",
   "name": "python3"
  },
  "language_info": {
   "codemirror_mode": {
    "name": "ipython",
    "version": 3
   },
   "file_extension": ".py",
   "mimetype": "text/x-python",
   "name": "python",
   "nbconvert_exporter": "python",
   "pygments_lexer": "ipython3",
   "version": "3.9.0"
  }
 },
 "nbformat": 4,
 "nbformat_minor": 4
}
