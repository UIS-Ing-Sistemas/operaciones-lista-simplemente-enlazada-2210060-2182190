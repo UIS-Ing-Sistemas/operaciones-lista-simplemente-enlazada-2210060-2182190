{
 "cells": [
  {
   "cell_type": "code",
   "execution_count": 28,
   "metadata": {},
   "outputs": [],
   "source": [
    "class Nodo:\n",
    "    def __init__(self,valor):\n",
    "        self.dato = valor\n",
    "        self.siguiente = None\n",
    "#Fin de la Clase Nodo"
   ]
  },
  {
   "cell_type": "code",
   "execution_count": 29,
   "metadata": {},
   "outputs": [],
   "source": [
    "class ListaSE:\n",
    "    def __init__(self):\n",
    "        self.cabeza = None\n",
    "        \n",
    "    def agregarInicio(self,valor):\n",
    "        nuevo_nodo = Nodo(valor)\n",
    "        \n",
    "        if self.cabeza is None: \n",
    "            self.cabeza = nuevo_nodo\n",
    "            return\n",
    "        else:\n",
    "            nuevo_nodo.siguiente = self.cabeza\n",
    "            self.cabeza = nuevo_nodo\n",
    "            return\n",
    "\n",
    "#Fin de la Clase ListaSE\n",
    "        "
   ]
  },
  {
   "cell_type": "code",
   "execution_count": 33,
   "metadata": {},
   "outputs": [],
   "source": [
    "ListaSimple = ListaSE()"
   ]
  },
  {
   "cell_type": "code",
   "execution_count": 34,
   "metadata": {},
   "outputs": [
    {
     "name": "stdout",
     "output_type": "stream",
     "text": [
      "5\n"
     ]
    }
   ],
   "source": [
    "ListaSimple.agregarInicio(5)\n",
    "print(ListaSimple.cabeza.dato)"
   ]
  },
  {
   "cell_type": "code",
   "execution_count": 35,
   "metadata": {},
   "outputs": [
    {
     "name": "stdout",
     "output_type": "stream",
     "text": [
      "8\n"
     ]
    }
   ],
   "source": [
    "ListaSimple.agregarInicio(8)\n",
    "print(ListaSimple.cabeza.dato)"
   ]
  }
 ],
 "metadata": {
  "interpreter": {
   "hash": "158738c2e2af07cbc86d9aa96ea1e7b7b59023abb225fbebbdab74f695b718f8"
  },
  "kernelspec": {
   "display_name": "Python 3.10.0 64-bit",
   "language": "python",
   "name": "python3"
  },
  "language_info": {
   "codemirror_mode": {
    "name": "ipython",
    "version": 3
   },
   "file_extension": ".py",
   "mimetype": "text/x-python",
   "name": "python",
   "nbconvert_exporter": "python",
   "pygments_lexer": "ipython3",
   "version": "3.10.0"
  },
  "orig_nbformat": 4
 },
 "nbformat": 4,
 "nbformat_minor": 2
}
